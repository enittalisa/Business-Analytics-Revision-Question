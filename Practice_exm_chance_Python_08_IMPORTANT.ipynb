{
  "nbformat": 4,
  "nbformat_minor": 0,
  "metadata": {
    "colab": {
      "provenance": []
    },
    "kernelspec": {
      "name": "python3",
      "display_name": "Python 3"
    },
    "language_info": {
      "name": "python"
    }
  },
  "cells": [
    {
      "cell_type": "code",
      "execution_count": null,
      "metadata": {
        "colab": {
          "base_uri": "https://localhost:8080/"
        },
        "id": "i4XaPjjJwztI",
        "outputId": "e02e047b-4353-47fb-940c-29484501d437"
      },
      "outputs": [
        {
          "output_type": "stream",
          "name": "stdout",
          "text": [
            "This is \"Python\" programming\n"
          ]
        }
      ],
      "source": [
        "x=\"This is \\\"Python\\\" programming\"\n",
        "print(x)"
      ]
    },
    {
      "cell_type": "code",
      "source": [
        " x=\"He\\'s a doctor\"\n",
        " print(x)"
      ],
      "metadata": {
        "colab": {
          "base_uri": "https://localhost:8080/"
        },
        "id": "r6a-QktBxhQW",
        "outputId": "5a01cf4f-c3ef-48e9-b163-329796fe7c62"
      },
      "execution_count": null,
      "outputs": [
        {
          "output_type": "stream",
          "name": "stdout",
          "text": [
            "He's a doctor\n"
          ]
        }
      ]
    },
    {
      "cell_type": "code",
      "source": [
        "x=\"Hello\\n World!\"\n",
        "print(x)"
      ],
      "metadata": {
        "colab": {
          "base_uri": "https://localhost:8080/"
        },
        "id": "euaNQ6FjyB0k",
        "outputId": "ae7e30ba-9a6b-4aba-9b25-c40c6399364b"
      },
      "execution_count": null,
      "outputs": [
        {
          "output_type": "stream",
          "name": "stdout",
          "text": [
            "Hello\n",
            " World!\n"
          ]
        }
      ]
    },
    {
      "cell_type": "code",
      "source": [
        "x=\"Hello\\t World!\"\n",
        "print(x)"
      ],
      "metadata": {
        "colab": {
          "base_uri": "https://localhost:8080/"
        },
        "id": "TaLQOth9yWhK",
        "outputId": "4cd498bf-e316-4cfb-9737-2a44690fd704"
      },
      "execution_count": null,
      "outputs": [
        {
          "output_type": "stream",
          "name": "stdout",
          "text": [
            "Hello\t World!\n"
          ]
        }
      ]
    },
    {
      "cell_type": "code",
      "source": [
        "print(\"\\\"Enitta\\\" Lisa Siby\")"
      ],
      "metadata": {
        "colab": {
          "base_uri": "https://localhost:8080/"
        },
        "id": "qGU_6Hyryr2p",
        "outputId": "b953c57a-f84a-4f69-d27d-0c1a37265d9c"
      },
      "execution_count": null,
      "outputs": [
        {
          "output_type": "stream",
          "name": "stdout",
          "text": [
            "\"Enitta\" Lisa Siby\n"
          ]
        }
      ]
    },
    {
      "cell_type": "code",
      "source": [
        "print(\"He\\'s a doctor\")"
      ],
      "metadata": {
        "colab": {
          "base_uri": "https://localhost:8080/"
        },
        "id": "b9mf4RD-z10q",
        "outputId": "81581135-e06e-4a58-e4ac-5b8ba4baa5c7"
      },
      "execution_count": null,
      "outputs": [
        {
          "output_type": "stream",
          "name": "stdout",
          "text": [
            "He's a doctor\n"
          ]
        }
      ]
    },
    {
      "cell_type": "code",
      "source": [
        "print(\"\\\"Enitta\\\"\\n Lisa\\n Siby\")"
      ],
      "metadata": {
        "colab": {
          "base_uri": "https://localhost:8080/"
        },
        "id": "Ai-L9qn00lcE",
        "outputId": "50d692e7-f41f-453b-b66e-2d5397168df5"
      },
      "execution_count": null,
      "outputs": [
        {
          "output_type": "stream",
          "name": "stdout",
          "text": [
            "\"Enitta\"\n",
            " Lisa\n",
            " Siby\n"
          ]
        }
      ]
    },
    {
      "cell_type": "code",
      "source": [
        "x=\"For only {price:2f} dollar!\"\n",
        "print(x.format(price=49))"
      ],
      "metadata": {
        "colab": {
          "base_uri": "https://localhost:8080/"
        },
        "id": "4jJtNCXJ1UUj",
        "outputId": "969a2791-4d16-4a91-f64c-28a739b0c6f7"
      },
      "execution_count": null,
      "outputs": [
        {
          "output_type": "stream",
          "name": "stdout",
          "text": [
            "For only 49.000000 dollar!\n"
          ]
        }
      ]
    },
    {
      "cell_type": "code",
      "source": [
        "x=[\"John\",\"Mary\",\"David\",\"Adam\"]\n",
        "y=input(\"Enter your name: \")\n",
        "z=int(input(\"Enter location:\"))\n",
        "x[z]=y\n",
        "print(x)"
      ],
      "metadata": {
        "colab": {
          "base_uri": "https://localhost:8080/"
        },
        "id": "jlcTZxn_2dLv",
        "outputId": "020ca1ec-27bd-4314-ba9e-a3e669c22438"
      },
      "execution_count": null,
      "outputs": [
        {
          "output_type": "stream",
          "name": "stdout",
          "text": [
            "Enter your name: Nini\n",
            "Enter location:0\n",
            "['Nini', 'Mary', 'David', 'Adam']\n"
          ]
        }
      ]
    },
    {
      "cell_type": "code",
      "source": [
        "x=[\"John\",\"Mary\",\"David\",\"Adam\"]\n",
        "def Parus():\n",
        "  y=(input(\"Enter the name: \"))\n",
        "  n=int(input(\"Enter a location: \"))\n",
        "  x.insert(n,y)"
      ],
      "metadata": {
        "id": "LeqQeOqO3Si1"
      },
      "execution_count": 8,
      "outputs": []
    },
    {
      "cell_type": "code",
      "source": [
        "Parus()\n",
        "print(x)"
      ],
      "metadata": {
        "colab": {
          "base_uri": "https://localhost:8080/"
        },
        "id": "upsumJlq-Zbl",
        "outputId": "494ef767-1c6b-47f7-857c-90c7272844e3"
      },
      "execution_count": 10,
      "outputs": [
        {
          "output_type": "stream",
          "name": "stdout",
          "text": [
            "Enter the name: Puppy\n",
            "Enter a location: 1\n",
            "['John', 'Puppy', 'Puppy', 'Mary', 'David', 'Adam']\n"
          ]
        }
      ]
    },
    {
      "cell_type": "code",
      "source": [
        "def BBS():\n",
        "  d=int(input(\"Enter the number: \"))\n",
        "  a=int(input(\"Enter the second number: \"))\n",
        "  print(d+a)\n",
        "  print(d-a)\n",
        "  print(d*a)\n",
        "  print(d/a)"
      ],
      "metadata": {
        "id": "BkAMXx8M-fh9"
      },
      "execution_count": 11,
      "outputs": []
    },
    {
      "cell_type": "code",
      "source": [
        "BBS()"
      ],
      "metadata": {
        "colab": {
          "base_uri": "https://localhost:8080/"
        },
        "id": "_l_m3pcSC_aY",
        "outputId": "e6cce637-52ce-4daf-ebcc-42714421c26d"
      },
      "execution_count": 12,
      "outputs": [
        {
          "output_type": "stream",
          "name": "stdout",
          "text": [
            "Enter the number: 52\n",
            "Enter the second number: 2\n",
            "54\n",
            "50\n",
            "104\n",
            "26.0\n"
          ]
        }
      ]
    },
    {
      "cell_type": "code",
      "source": [
        "def add(x,y):\n",
        "  print(x+y)\n",
        "def sub(x,y):\n",
        "  print(x-y)\n",
        "def multiply(x,y):\n",
        "  print(x*y)\n",
        "def divide(x,y):\n",
        "  print(x/y)"
      ],
      "metadata": {
        "id": "nxW4mlytDDFf"
      },
      "execution_count": 22,
      "outputs": []
    },
    {
      "cell_type": "code",
      "source": [
        "x=int(input(\"Enter the first value: \"))\n",
        "y=int(input(\"Enter the second value: \"))\n"
      ],
      "metadata": {
        "id": "bOv6Q3XFEQgn"
      },
      "execution_count": null,
      "outputs": []
    },
    {
      "cell_type": "code",
      "source": [],
      "metadata": {
        "id": "fek9-nuGEjMX"
      },
      "execution_count": null,
      "outputs": []
    }
  ]
}