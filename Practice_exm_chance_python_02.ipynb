{
  "nbformat": 4,
  "nbformat_minor": 0,
  "metadata": {
    "colab": {
      "provenance": []
    },
    "kernelspec": {
      "name": "python3",
      "display_name": "Python 3"
    },
    "language_info": {
      "name": "python"
    }
  },
  "cells": [
    {
      "cell_type": "code",
      "execution_count": 5,
      "metadata": {
        "colab": {
          "base_uri": "https://localhost:8080/"
        },
        "id": "ez_NXVjeCdfo",
        "outputId": "8189003f-db31-4127-accb-c0b2d04f52b5"
      },
      "outputs": [
        {
          "name": "stdout",
          "output_type": "stream",
          "text": [
            "Enter your marks : 50\n"
          ]
        }
      ],
      "source": [
        "x=int(input(\"Enter your marks : \"))"
      ]
    },
    {
      "cell_type": "code",
      "source": [
        "if x>50:\n",
        "  print(\"You are passed\")\n",
        "\n",
        "if x==50:\n",
        "  print(\"You are just passed\")\n",
        "\n",
        "if x<50:\n",
        "  print(\"You are failed\")"
      ],
      "metadata": {
        "colab": {
          "base_uri": "https://localhost:8080/"
        },
        "id": "ebxoN5YWE4lL",
        "outputId": "84a60827-2c99-4e60-b854-4b6e878b2b87"
      },
      "execution_count": 7,
      "outputs": [
        {
          "output_type": "stream",
          "name": "stdout",
          "text": [
            "You are just passed\n"
          ]
        }
      ]
    },
    {
      "cell_type": "code",
      "source": [
        "sal=int(input(\"Enter your salary : \"))\n",
        "if sal>250000:\n",
        "  print(\"You are taxable\")\n",
        "  print(\"Your taxable amout is \" ,(sal-250000)*10/100)\n",
        "\n",
        "if sal<250000:\n",
        "  print(\"You are not taxable\")\n",
        "print (\"Byeeeee\")"
      ],
      "metadata": {
        "colab": {
          "base_uri": "https://localhost:8080/"
        },
        "id": "GZigqct0FsPu",
        "outputId": "d81f1c86-c221-45cd-e480-a09b943b85d6"
      },
      "execution_count": 20,
      "outputs": [
        {
          "output_type": "stream",
          "name": "stdout",
          "text": [
            "Enter your salary : 350000\n",
            "You are taxable\n",
            "Your taxable amout is  10000.0\n",
            "Byeeeee\n"
          ]
        }
      ]
    },
    {
      "cell_type": "code",
      "source": [
        "sal=int(input(\"Enter your salary : \"))\n",
        "if sal<=250000:\n",
        "  print(\"You are not taxable\")\n",
        "if sal>250000 and sal<=500000:\n",
        "  print(\"Your taxable amout is \" ,(sal-250000)*5/100)\n",
        "if sal>500000 and sal<=750000:\n",
        "  print(\"Your taxable amout is \" ,(sal-500000)*10/100)\n",
        "if sal>750000 and sal<=1000000:\n",
        "  print(\"Your taxable amout is \" ,(sal-750000)*15/100)\n",
        "if sal>1000000 and sal<=1250000:\n",
        "  print(\"Your taxable amout is \" ,(sal-1000000)*20/100)\n",
        "if sal>1250000 and sal<=1500000:\n",
        "  print(\"Your taxable amout is \" ,(sal-1250000)*25/100)\n",
        "if sal>1500000 :\n",
        "  print(\"Your taxable amout is \" ,(sal-1500000)*30/100)\n",
        "\n"
      ],
      "metadata": {
        "colab": {
          "base_uri": "https://localhost:8080/"
        },
        "id": "JzfkNMhkHmFJ",
        "outputId": "c2ca460f-c5d5-4f83-9b7a-c4cea0056aed"
      },
      "execution_count": 24,
      "outputs": [
        {
          "output_type": "stream",
          "name": "stdout",
          "text": [
            "Enter your salary : 1600000\n",
            "Your taxable amout is  30000.0\n"
          ]
        }
      ]
    },
    {
      "cell_type": "code",
      "source": [],
      "metadata": {
        "id": "lKryNrqIMNsN"
      },
      "execution_count": null,
      "outputs": []
    }
  ]
}