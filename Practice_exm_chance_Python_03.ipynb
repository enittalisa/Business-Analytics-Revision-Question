{
  "nbformat": 4,
  "nbformat_minor": 0,
  "metadata": {
    "colab": {
      "provenance": []
    },
    "kernelspec": {
      "name": "python3",
      "display_name": "Python 3"
    },
    "language_info": {
      "name": "python"
    }
  },
  "cells": [
    {
      "cell_type": "code",
      "execution_count": 9,
      "metadata": {
        "colab": {
          "base_uri": "https://localhost:8080/"
        },
        "id": "88BFDANZPrna",
        "outputId": "35c013b0-e6ae-450c-a498-b1e94f9b0559"
      },
      "outputs": [
        {
          "output_type": "stream",
          "name": "stdout",
          "text": [
            "Enter your basic salary : 500000\n",
            "Enter the HRA provided by the company : 20000\n",
            "Enter the actual rent paid : 10000\n",
            "3000000.0 is the highest number\n"
          ]
        }
      ],
      "source": [
        "x=int(input(\"Enter your basic salary : \"))\n",
        "y=int(input(\"Enter the HRA provided by the company : \"))\n",
        "z=int(input(\"Enter the actual rent paid : \"))\n",
        "a=x*10/100\n",
        "b=z-a\n",
        "c=x*12\n",
        "d=c*50/100\n",
        "if y>b:\n",
        "  if y>d:\n",
        "    print(y,\"is the highest number\")\n",
        "if b>y:\n",
        "  if b>d:\n",
        "    print(b,\"is the highest number\")\n",
        "if d>y:\n",
        "  if d>b:\n",
        "    print(d,\"is the highest number\")\n",
        " \n",
        " #OR\n",
        "\n",
        "if y>b or y>d:\n",
        "  print(y,\"is the highest number\")\n",
        "if b>y or b>d:\n",
        "  print(b,\"is the highest number\")\n",
        "if d>y or d>b:\n",
        "  print(d,\"is the highest number\")"
      ]
    },
    {
      "cell_type": "code",
      "source": [
        "x=int(input(\"Enter your basic salary : \"))\n",
        "y=int(input(\"Enter the HRA provided by the company : \"))\n",
        "z=int(input(\"Enter the actual rent paid : \"))\n",
        "a=x*10/100\n",
        "b=z-a\n",
        "c=x*12\n",
        "d=c*50/100\n",
        "if y>b or y>d:\n",
        "  ex=y\n",
        "  print(y,\"is the highest number\")\n",
        "if b>y or b>d:\n",
        "  ex=b\n",
        "  print(b,\"is the highest number\")\n",
        "if d>y or d>b:\n",
        "  ex=d\n",
        "  print(d,\"is the highest number\")\n",
        "sal=x+y-ex\n",
        "if ex> 150000:\n",
        "  sal=x+y-150000\n",
        "if sal<=250000:\n",
        "  print(\"You are not taxable\")\n",
        "if sal>250000 and sal<=500000:\n",
        "  print(\"Your taxable amout is \" ,(sal-250000)*5/100)\n",
        "if sal>500000 and sal<=750000:\n",
        "  print(\"Your taxable amout is \" ,((sal-500000)*10/100)+(250000*5/100))\n",
        "if sal>750000 and sal<=1000000:\n",
        "  print(\"Your taxable amout is \" ,((sal-750000)*15/100)+(500000*10/100)+(250000*5/100))\n",
        "if sal>1000000 and sal<=1250000:\n",
        "  print(\"Your taxable amout is \" ,((sal-1000000)*20/100)+(750000*15/100)+(500000*10/100)+(250000*5/100))\n",
        "if sal>1250000 and sal<=1500000:\n",
        "  print(\"Your taxable amout is \" ,((sal-1250000)*25/100)+(1000000*20/100)+(75000*15/100)+(500000*10/100)+(250000*5/100))\n",
        "if sal>1500000 :\n",
        "  print(\"Your taxable amout is \" ,((sal-1500000)*30/100)+(1250000*25/100)+(1000000*20/100)+(750000*15/100)+(500000*10/100)+(250000*5/100))\n"
      ],
      "metadata": {
        "colab": {
          "base_uri": "https://localhost:8080/"
        },
        "id": "81T2yHipSWWf",
        "outputId": "f4041ddb-40c5-42a1-ff95-f01d315cbd93"
      },
      "execution_count": 12,
      "outputs": [
        {
          "output_type": "stream",
          "name": "stdout",
          "text": [
            "Enter your basic salary : 50000\n",
            "Enter the HRA provided by the company : 100000\n",
            "Enter the actual rent paid : 15000\n",
            "100000 is the highest number\n",
            "300000.0 is the highest number\n",
            "You are not taxable\n"
          ]
        }
      ]
    },
    {
      "cell_type": "code",
      "source": [],
      "metadata": {
        "id": "Qk6ZXq50iwdk"
      },
      "execution_count": null,
      "outputs": []
    }
  ]
}
